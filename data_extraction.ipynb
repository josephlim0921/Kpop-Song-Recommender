{
 "cells": [
  {
   "cell_type": "markdown",
   "metadata": {},
   "source": [
    "# Dependencies"
   ]
  },
  {
   "cell_type": "code",
   "execution_count": null,
   "metadata": {},
   "outputs": [],
   "source": [
    "# Spotify API \n",
    "from spotipy.oauth2 import SpotifyClientCredentials #To access authorised Spotify data\n",
    "import spotipy\n",
    "\n",
    "# Data Science Libraries\n",
    "import pandas as pd\n",
    "import numpy as np \n",
    "import seaborn as sns\n",
    "import matplotlib.pyplot as plt\n",
    "\n",
    "# Miscellaneous Libraries\n",
    "from tqdm import tqdm\n",
    "from dotenv import load_dotenv\n",
    "import os\n",
    "import time\n",
    "\n",
    "load_dotenv()\n",
    "\n",
    "# Obtaining client id and client secret from env\n",
    "client_id = os.getenv(\"CLIENT_ID\")\n",
    "client_secret = os.getenv(\"CLIENT_SECRET\")\n",
    "\n",
    "client_credentials_manager = SpotifyClientCredentials(client_id=client_id, client_secret=client_secret)\n",
    "sp = spotipy.Spotify(client_credentials_manager=client_credentials_manager) "
   ]
  },
  {
   "cell_type": "markdown",
   "metadata": {},
   "source": [
    "# Extracting Songs and their Features"
   ]
  },
  {
   "cell_type": "markdown",
   "metadata": {},
   "source": [
    "Obtaining all the tracks from an artist"
   ]
  },
  {
   "cell_type": "code",
   "execution_count": null,
   "metadata": {},
   "outputs": [],
   "source": [
    "def artist_tracks(artist):\n",
    "    \n",
    "    '''\n",
    "    Takes an artist name, iterates through their Spotify albums, checks for \n",
    "    duplicate albums, then appends all the tracks in those albums to a list of lists\n",
    "    '''\n",
    "    \n",
    "    # Each list in this list will be a track and its features\n",
    "    tracks = []\n",
    "    \n",
    "    # Get the artist URI (a unique ID)\n",
    "    query = f\"q={artist}&type=artist&limit=1\"\n",
    "    artist_uri = sp.search(q=query)['tracks']['items'][0]['album']['artists'][0]['uri']\n",
    "\n",
    "    # Spotify has a lot of duplicate albums, but we'll cross-reference them with this list to avoid extra loops\n",
    "    album_checker = []\n",
    "    \n",
    "    # The starting point of our loop of albums for those artists with more than 50\n",
    "    n = 0\n",
    "    \n",
    "    # Note the album_type = 'album'. This discounts singles, compilations and collaborations\n",
    "    while len(sp.artist_albums(artist_uri, album_type = 'album', limit=50, offset = n)['items']) > 0:\n",
    "        \n",
    "        # Avoid overloading Spotify with requests by assigning the list of album dictionaries to a variable\n",
    "        dict_list = sp.artist_albums(artist_uri, album_type = 'album', limit=50, offset = n)['items']\n",
    "        \n",
    "        for i, album in tqdm(enumerate(dict_list)):\n",
    "\n",
    "            # Add the featured artists for the album in question to the checklist\n",
    "            check_this_album = [j['name'] for j in dict_list[i]['artists']]\n",
    "            # And the album name\n",
    "            check_this_album.append(dict_list[i]['name'])\n",
    "            # And its date\n",
    "            check_this_album.append(dict_list[i]['release_date'])\n",
    "\n",
    "            # Only continue looping if that album isn't in the checklist\n",
    "            if check_this_album not in album_checker:\n",
    "                \n",
    "                # Add this album to the checker\n",
    "                album_checker.append(check_this_album)\n",
    "                # For every song on the album, get its descriptors and features in a list and add to the tracklist\n",
    "                tracks.extend([[artist, album['name'], album['uri'], song['name'], album['release_date']] + list(sp.audio_features(song['uri'])[0].values()) for song in sp.album_tracks(album['uri'])['items']])\n",
    "                time.sleep(8)\n",
    "        \n",
    "        # Go through the next 50 albums (otherwise we'll get an infinite while loop)\n",
    "        n += 50\n",
    "\n",
    "    # HOT FIX\n",
    "    # Since we are only looking at songs within an album, we are missing out on songs that simply appear on it's own.\n",
    "    # For example, New Jeans only has 1 album (their remix album), but all of their top hits are singles\n",
    "    # This will definetly cause duplicates in the case for other artists, but duplicates will be handled later on\n",
    "\n",
    "    single_tracks = sp.search(q=artist, limit=50, type='track')['tracks']['items']\n",
    "    tracks.extend([[artist, item['album']['name'], item['album']['uri'], item['name'], item['album']['release_date']] + list(sp.audio_features(item['uri'])[0].values()) for item in single_tracks if item['album']['artists'][0]['uri'] == artist_uri])\n",
    "    time.sleep(8)\n",
    "\n",
    "    return tracks"
   ]
  },
  {
   "cell_type": "markdown",
   "metadata": {},
   "source": [
    "Function that creates the final dataframe of tracks and audio features for a single artist"
   ]
  },
  {
   "cell_type": "code",
   "execution_count": null,
   "metadata": {},
   "outputs": [],
   "source": [
    "def df_tracks(tracklist):\n",
    "    '''\n",
    "    This method takes the output of artist_tracks (i.e. list of lists),\n",
    "    and organizes all the data into a dataframe\n",
    "    '''\n",
    "\n",
    "    # Creating the dataframe\n",
    "    df = pd.DataFrame(data=tracklist, columns = ['artist', 'album_name', 'album_uri', 'track', 'release_date'] + list(sp.audio_features('7tr2za8SQg2CI8EDgrdtNl')[0].keys()))\n",
    "\n",
    "    # Renaming columns and dropping duplicate songs\n",
    "    df.rename({'uri':'song_uri'}, axis=1, inplace=True)\n",
    "    df.drop_duplicates(subset=['artist', 'track', 'release_date'], inplace=True, keep='first')\n",
    "\n",
    "    # Filtering songs that are instrumental or a language variant\n",
    "    df = df[(~(df['track'].str.lower().str.contains('inst')) & ~(df['track'].str.lower().str.contains('ver')))]\n",
    "\n",
    "    # Reorder the columns to have identifiers first, auditory features last\n",
    "    cols = ['artist', 'album_name', 'album_uri', 'track', 'release_date', 'id', 'song_uri', 'track_href',\n",
    "     'analysis_url', 'type', 'danceability', 'energy', 'key',  'loudness', 'mode', 'speechiness',\n",
    "     'acousticness', 'instrumentalness', 'liveness', 'valence', 'tempo', 'duration_ms', 'time_signature']\n",
    "\n",
    "    df = df[cols]\n",
    "\n",
    "    return df\n",
    "\n"
   ]
  },
  {
   "cell_type": "markdown",
   "metadata": {},
   "source": [
    "Function that combines the 2 functions above"
   ]
  },
  {
   "cell_type": "code",
   "execution_count": null,
   "metadata": {},
   "outputs": [],
   "source": [
    "def df_creator(artist):\n",
    "\n",
    "    track_list = artist_tracks(artist)\n",
    "    training_df = df_tracks(track_list)\n",
    "    return training_df"
   ]
  },
  {
   "cell_type": "markdown",
   "metadata": {},
   "source": [
    "# Creating the Dataframes"
   ]
  },
  {
   "cell_type": "code",
   "execution_count": null,
   "metadata": {},
   "outputs": [],
   "source": [
    "# I could create a loop to loop through all of these artists, but I encounter Spotify's Rate Limit error 429.\n",
    "# Everytime I receve a 429 error response, I have to wait a long period of time before I can use the API again.\n",
    "# To ensure that I can get all of the songs from the desired artist, I will get the dataframes separately and concatenate them at the end\n",
    "\n",
    "df1 = df_creator('NewJeans')\n",
    "time.sleep(8)\n",
    "df2 = df_creator('ITZY')\n",
    "time.sleep(8)\n",
    "df3 = df_creator('BLACKPINK')\n",
    "time.sleep(8)\n",
    "df4 = df_creator('BTS')\n",
    "time.sleep(8)\n",
    "df5 = df_creator('Stray Kids')\n",
    "time.sleep(8)\n",
    "df6 = df_creator('TWICE')\n",
    "time.sleep(8)\n",
    "df7 = df_creator('SEVENTEEN')\n",
    "time.sleep(8)\n",
    "df8 = df_creator('LE SSERAFIM')\n",
    "time.sleep(8)\n",
    "df9 = df_creator('GIDLE')\n",
    "time.sleep(8)\n",
    "df10 = df_creator('aespa')\n",
    "time.sleep(8)\n",
    "df11 = df_creator('IVE')\n",
    "time.sleep(8)\n",
    "df12 = df_creator('MAMAMOO')\n",
    "time.sleep(8)\n",
    "df13 = df_creator('Red Velvet')\n",
    "time.sleep(8)\n",
    "df14 = df_creator('NCT 127')\n",
    "time.sleep(8)\n",
    "df15 = df_creator('STAYC')\n",
    "time.sleep(8)\n",
    "df16 = df_creator('MOMOLAND')\n",
    "time.sleep(8)\n",
    "df17 = df_creator('Girls Generation')\n",
    "\n"
   ]
  },
  {
   "cell_type": "markdown",
   "metadata": {},
   "source": [
    "Some data cleaning and data transformation"
   ]
  },
  {
   "cell_type": "code",
   "execution_count": null,
   "metadata": {},
   "outputs": [],
   "source": [
    "training_df = pd.concat([df1,df2,df3,df4,df5,df6,df7,df8,df9,df10,df11,df12,df13,df14,df15,df16,df17], axis=0)\n",
    "training_df = training_df.reset_index(drop=True)\n",
    "\n",
    "# Obtaining the 11 features of a song\n",
    "features = training_df.columns[10:21]\n",
    "# Creating a dictionary that converts the datatype of all the numeric features to a float\n",
    "dtype_conversion_dict = {feature:'float64' for feature in features}\n",
    "\n",
    "training_df = training_df.astype(dtype_conversion_dict)\n",
    "training_df.dtypes"
   ]
  },
  {
   "cell_type": "code",
   "execution_count": null,
   "metadata": {},
   "outputs": [],
   "source": [
    "training_df.to_csv('training_df.csv')"
   ]
  },
  {
   "cell_type": "markdown",
   "metadata": {},
   "source": [
    "# Debugging Issues"
   ]
  },
  {
   "cell_type": "code",
   "execution_count": null,
   "metadata": {},
   "outputs": [],
   "source": [
    "# This code was used for debugging\n",
    "\n",
    "\"\"\"\n",
    "tracks = []\n",
    "query = \"q=Stayc&type=artist&limit=1\"\n",
    "artist_uri = sp.search(q=query)['tracks']['items'][0]['album']['artists'][0]['uri']\n",
    "print(f\"This is the artist uri: {artist_uri}\")\n",
    "\n",
    "#query = \"IVE\"#&type=artist&limit=1\"\n",
    "\n",
    "\n",
    "for item in sp.search(q=\"Stayc\", limit=50, type='track')['tracks']['items']:\n",
    "    print(item['album']['artists'][0]['uri'] + \"   \" + item['name'])\n",
    "    if item['album']['artists'][0]['uri'] == artist_uri:\n",
    "        print(\"YES\")\n",
    "        tracks.append(item['name'])\n",
    "\n",
    "print(tracks)\n",
    "\n",
    "\"\"\""
   ]
  }
 ],
 "metadata": {
  "kernelspec": {
   "display_name": "Python 3",
   "language": "python",
   "name": "python3"
  },
  "language_info": {
   "codemirror_mode": {
    "name": "ipython",
    "version": 3
   },
   "file_extension": ".py",
   "mimetype": "text/x-python",
   "name": "python",
   "nbconvert_exporter": "python",
   "pygments_lexer": "ipython3",
   "version": "3.11.5"
  }
 },
 "nbformat": 4,
 "nbformat_minor": 2
}
